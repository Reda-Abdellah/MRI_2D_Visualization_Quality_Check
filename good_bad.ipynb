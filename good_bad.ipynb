{
 "cells": [
  {
   "cell_type": "code",
   "execution_count": 128,
   "metadata": {},
   "outputs": [],
   "source": [
    "import umap\n",
    "from sklearn.datasets import load_digits\n",
    "import os\n",
    "import glob\n",
    "import numpy as np\n",
    "import nibabel as nii\n",
    "import math\n",
    "import operator\n",
    "#import patch_extraction\n",
    "from scipy.ndimage.interpolation import zoom\n",
    "from keras.models import load_model\n",
    "from scipy import ndimage\n",
    "import scipy.io as sio\n",
    "import matplotlib.pyplot as plt"
   ]
  },
  {
   "cell_type": "code",
   "execution_count": 205,
   "metadata": {},
   "outputs": [],
   "source": [
    "import csv\n",
    "with open('cluster_17.csv', 'r') as f:\n",
    "    reader = csv.reader(f)\n",
    "    your_list = list(reader)"
   ]
  },
  {
   "cell_type": "code",
   "execution_count": 206,
   "metadata": {},
   "outputs": [],
   "source": [
    "lib_path='reduced/cluster_17/'\n",
    "out_path=\"good_reduced/\""
   ]
  },
  {
   "cell_type": "code",
   "execution_count": 207,
   "metadata": {},
   "outputs": [],
   "source": [
    "listaT1 = sorted(glob.glob(lib_path+\"n_*t1*.nii\"))\n",
    "listaFLAIR = sorted(glob.glob(lib_path+\"n_*flair*.nii\"))\n",
    "listaLAB = sorted(glob.glob(lib_path+\"wmhlesion*.nii*\"))\n",
    "listaMASK = sorted(glob.glob(lib_path+\"mask*.nii\"))"
   ]
  },
  {
   "cell_type": "code",
   "execution_count": 208,
   "metadata": {},
   "outputs": [],
   "source": [
    "for i in range(len(listaT1)):\n",
    "    if(your_list[i][1]=='good'):\n",
    "        os.system(\"cp \"+listaT1[i]+\" \"+out_path)\n",
    "        os.system(\"cp \"+listaFLAIR[i]+\" \"+out_path)\n",
    "        os.system(\"cp \"+listaLAB[i]+\" \"+out_path)\n",
    "        os.system(\"cp \"+listaMASK[i]+\" \"+out_path)\n",
    "        \n",
    "    "
   ]
  },
  {
   "cell_type": "code",
   "execution_count": null,
   "metadata": {},
   "outputs": [],
   "source": []
  },
  {
   "cell_type": "code",
   "execution_count": null,
   "metadata": {},
   "outputs": [],
   "source": []
  },
  {
   "cell_type": "code",
   "execution_count": null,
   "metadata": {},
   "outputs": [],
   "source": []
  },
  {
   "cell_type": "code",
   "execution_count": null,
   "metadata": {},
   "outputs": [],
   "source": []
  },
  {
   "cell_type": "code",
   "execution_count": null,
   "metadata": {},
   "outputs": [],
   "source": []
  },
  {
   "cell_type": "code",
   "execution_count": null,
   "metadata": {},
   "outputs": [],
   "source": []
  },
  {
   "cell_type": "code",
   "execution_count": null,
   "metadata": {},
   "outputs": [],
   "source": []
  },
  {
   "cell_type": "code",
   "execution_count": 123,
   "metadata": {},
   "outputs": [],
   "source": [
    "i=6\n",
    "#from scipy.stats.stats import pearsonr\n"
   ]
  },
  {
   "cell_type": "code",
   "execution_count": 125,
   "metadata": {},
   "outputs": [],
   "source": [
    "subsmapling=32\n",
    "T1_img = nii.load(listaT1[i])\n",
    "T1=T1_img.get_data()\n",
    "T1=T1.astype('float32')\n",
    "FLAIR_img = nii.load(listaFLAIR[i])\n",
    "FLAIR=FLAIR_img.get_data()\n",
    "FLAIR=FLAIR.astype('float32')\n",
    "#\t\tLAB_img = nii.load(listaLAB[i])\n",
    "#\t\tLAB=LAB_img.get_data()\n",
    "#\t\tLAB=LAB.astype('int')\n",
    "        \n",
    "MASK_img = nii.load(listaMASK[i])\n",
    "MASK = MASK_img.get_data()\n",
    "MASK=MASK.astype('int')\n",
    "        \n",
    "\n",
    "        \n",
    "#FLAIR=FLAIR.reshape((1,FLAIR.shape[0],FLAIR.shape[1],FLAIR.shape[2],1))\n",
    "#T1=T1.reshape((1,T1.shape[0],T1.shape[1],T1.shape[2],1))\n",
    "#T1andFLAIR=np.concatenate((T1,FLAIR),axis=4)\n",
    "#T1andFLAIR=T1andFLAIR.reshape((1,-1))"
   ]
  },
  {
   "cell_type": "code",
   "execution_count": 98,
   "metadata": {},
   "outputs": [
    {
     "data": {
      "text/plain": [
       "(181, 181)"
      ]
     },
     "execution_count": 98,
     "metadata": {},
     "output_type": "execute_result"
    }
   ],
   "source": [
    "T1[:,110,:].shape"
   ]
  },
  {
   "cell_type": "code",
   "execution_count": 111,
   "metadata": {},
   "outputs": [
    {
     "data": {
      "text/plain": [
       "0.17284693726083508"
      ]
     },
     "execution_count": 111,
     "metadata": {},
     "output_type": "execute_result"
    }
   ],
   "source": [
    "skimage.measure.compare_ssim(T1[:,110,:],FLAIR[:,110,:])\n",
    "#from skimage.metrics import structural_similarity as ssim"
   ]
  },
  {
   "cell_type": "code",
   "execution_count": 90,
   "metadata": {},
   "outputs": [
    {
     "data": {
      "text/plain": [
       "(0.2819635, 0.0)"
      ]
     },
     "execution_count": 90,
     "metadata": {},
     "output_type": "execute_result"
    }
   ],
   "source": [
    "pearsonr(FLAIR.reshape((-1))[3509137:3609137],T1.reshape((-1))[3509137:3609137])"
   ]
  },
  {
   "cell_type": "code",
   "execution_count": 86,
   "metadata": {},
   "outputs": [
    {
     "data": {
      "text/plain": [
       "(7109137,)"
      ]
     },
     "execution_count": 86,
     "metadata": {},
     "output_type": "execute_result"
    }
   ],
   "source": [
    "#FLAIR.reshape((-1))[:100]\n",
    "FLAIR.reshape((-1)).shape"
   ]
  },
  {
   "cell_type": "code",
   "execution_count": 127,
   "metadata": {},
   "outputs": [
    {
     "data": {
      "text/plain": [
       "210513"
      ]
     },
     "execution_count": 127,
     "metadata": {},
     "output_type": "execute_result"
    }
   ],
   "source": [
    "FLAIR.argmax()"
   ]
  }
 ],
 "metadata": {
  "kernelspec": {
   "display_name": "Python 3",
   "language": "python",
   "name": "python3"
  },
  "language_info": {
   "codemirror_mode": {
    "name": "ipython",
    "version": 3
   },
   "file_extension": ".py",
   "mimetype": "text/x-python",
   "name": "python",
   "nbconvert_exporter": "python",
   "pygments_lexer": "ipython3",
   "version": "3.7.3"
  }
 },
 "nbformat": 4,
 "nbformat_minor": 2
}
